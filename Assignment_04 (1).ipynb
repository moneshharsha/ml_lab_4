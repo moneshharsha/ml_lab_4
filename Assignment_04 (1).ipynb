import pandas as pd
import numpy as np
import matplotlib.pyplot as plt
from sklearn.model_selection import train_test_split
from sklearn.neighbors import KNeighborsClassifier
from sklearn.metrics import precision_score, recall_score, f1_score, confusion_matrix

def calculate_intraclass_spread(data, feature):
    mean_correct = np.mean(data[data['Label'] == 'Correct'][feature])
    mean_wrong = np.mean(data[data['Label'] == 'Wrong'][feature])
    std_correct = np.std(data[data['Label'] == 'Correct'][feature])
    std_wrong = np.std(data[data['Label'] == 'Wrong'][feature])
    intraclass_spread = np.abs(mean_correct - mean_wrong) / (std_correct + std_wrong)
    return intraclass_spread

def calculate_interclass_distance(data, feature):
    mean_correct = np.mean(data[data['Label'] == 'Correct'][feature])
    mean_wrong = np.mean(data[data['Label'] == 'Wrong'][feature])
    interclass_distance = np.linalg.norm(mean_correct - mean_wrong)
    return interclass_distance

def plot_histogram(data, feature):
    plt.hist(data[data['Label'] == 'Correct'][feature], bins=10, alpha=0.5, label='Correct')
    plt.hist(data[data['Label'] == 'Wrong'][feature], bins=10, alpha=0.5, label='Wrong')
    plt.xlabel(feature)
    plt.ylabel('Frequency')
    plt.legend()
    plt.show()

def plot_minkowski_distance(data, feature1, feature2):
    r_values = np.arange(1, 11)
    distances = [calculate_minkowski_distance(data[feature1], data[feature2], r) for r in r_values]
    plt.plot(r_values, distances)
    plt.xlabel('r values')
    plt.ylabel('Minkowski Distance')
    plt.title(f'Minkowski Distance between {feature1} and {feature2}')
    plt.show()

def calculate_minkowski_distance(vec1, vec2, r):
    return np.linalg.norm(vec1 - vec2, ord=r)

def test_knn_classifier(knn_classifier, X_test, y_test):
    predictions = knn_classifier.predict(X_test)
    accuracy = knn_classifier.score(X_test, y_test)
    precision = precision_score(y_test, predictions, average=None, labels=['Correct', 'Wrong'])
    recall = recall_score(y_test, predictions, average=None, labels=['Correct', 'Wrong'])
    f1 = f1_score(y_test, predictions, average=None, labels=['Correct', 'Wrong'])
    confusion_mat = confusion_matrix(y_test, predictions, labels=['Correct', 'Wrong'])
    return accuracy, precision, recall, f1, confusion_mat

def main():
    data = pd.read_csv(r"C:\\Users\\mones\\Downloads\\AISP.csv")

    intraclass_spread = calculate_intraclass_spread(data, 'Score')
    interclass_distance = calculate_interclass_distance(data, 'Score')

    print("A1. Intraclass Spread:", intraclass_spread)
    print("A1. Interclass Distance:", interclass_distance)

    plot_histogram(data, 'Score')  # A2. Plot histogram for 'Score' feature
    plot_minkowski_distance(data, 'Score', 'Total_Score')  # A3. Plot Minkowski distance for 'Score' and 'Total_Score'

    X = data[['Score', 'Total_Score']]
    y = data['Label']
    X_train, X_test, y_train, y_test = train_test_split(X, y, test_size=0.3, random_state=42)

    knn_classifier = KNeighborsClassifier(n_neighbors=3)
    knn_classifier.fit(X_train, y_train)

    accuracy, precision, recall, f1, confusion_mat = test_knn_classifier(knn_classifier, X_test, y_test)

    print("\nA4. Train-Test Split:")
    print("X_train shape:", X_train.shape)
    print("X_test shape:", X_test.shape)

    print("\nA5. KNN Classifier Training:")
    print("Accuracy:", accuracy)

    print("\nA6. Precision, Recall, and F1 Score:")
    print("Precision:", precision)
    print("Recall:", recall)
    print("F1 Score:", f1)

    print("\nA7. Confusion Matrix:")
    print(confusion_mat)

if __name__ == "_main_":
    main()
